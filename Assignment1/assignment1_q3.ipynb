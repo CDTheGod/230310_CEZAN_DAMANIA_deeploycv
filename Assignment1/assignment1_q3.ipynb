{
 "cells": [
  {
   "cell_type": "code",
   "execution_count": 5,
   "metadata": {},
   "outputs": [
    {
     "name": "stdout",
     "output_type": "stream",
     "text": [
      "The flag is Indonesia.\n"
     ]
    }
   ],
   "source": [
    "from PIL import Image\n",
    "import numpy as np\n",
    "\n",
    "def is_red(p): \n",
    "    if p[0] > 100 and p[1] < 100 and p[2] < 100:\n",
    "        return True\n",
    "    return False\n",
    "\n",
    "def is_white(p): \n",
    "    if p[0] > 200 and p[1] > 200 and p[2] > 200:\n",
    "        return True\n",
    "    return False\n",
    "\n",
    "def compute_mean_position(a, f): \n",
    "    y_positions = []\n",
    "    for i in range(a.shape[0]):\n",
    "        for j in range(a.shape[1]):\n",
    "            if f(a[i, j]):\n",
    "                y_positions.append(i)\n",
    "    if len(y_positions) > 0:\n",
    "        return np.mean(y_positions)\n",
    "    else:\n",
    "        return None\n",
    "\n",
    "def determine_flag(p):\n",
    "    a = np.array(Image.open(p).convert(\"RGB\"))\n",
    "    r = compute_mean_position(a, is_red)\n",
    "    w = compute_mean_position(a, is_white)\n",
    "\n",
    "    if r is None or w is None:\n",
    "        return \"No clear flag detected in the image.\"\n",
    "    if r < w:\n",
    "        return \"The flag is Indonesia.\"\n",
    "    elif w < r:\n",
    "        return \"The flag is Poland.\"\n",
    "    else:\n",
    "        return \"The image does not match the Indonesia or Poland flag pattern.\"\n",
    "\n",
    "def main():\n",
    "    image_path = 'img.png'\n",
    "    result = determine_flag(image_path)\n",
    "    print(result)\n",
    "\n",
    "if __name__ == \"__main__\":\n",
    "    main()\n"
   ]
  }
 ],
 "metadata": {
  "kernelspec": {
   "display_name": ".venv",
   "language": "python",
   "name": "python3"
  },
  "language_info": {
   "codemirror_mode": {
    "name": "ipython",
    "version": 3
   },
   "file_extension": ".py",
   "mimetype": "text/x-python",
   "name": "python",
   "nbconvert_exporter": "python",
   "pygments_lexer": "ipython3",
   "version": "3.12.7"
  }
 },
 "nbformat": 4,
 "nbformat_minor": 2
}
