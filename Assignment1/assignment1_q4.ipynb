{
 "cells": [
  {
   "cell_type": "code",
   "execution_count": 4,
   "id": "3426683aa724d3e4",
   "metadata": {
    "ExecuteTime": {
     "end_time": "2024-12-17T18:36:02.073380Z",
     "start_time": "2024-12-17T18:36:01.763759Z"
    }
   },
   "outputs": [
    {
     "name": "stdout",
     "output_type": "stream",
     "text": [
      "Mean Red Position: 60.87018943170489 Mean White Position: 86.44090663788451\n",
      "The flag is Indonesia.\n"
     ]
    }
   ],
   "source": [
    "from PIL import Image\n",
    "import numpy as np\n",
    "\n",
    "def is_red(p): \n",
    "    return p[0] > 100 and p[1] < 100 and p[2] < 100\n",
    "\n",
    "def is_white(p): \n",
    "    return p[0] > 200 and p[1] > 200 and p[2] > 200\n",
    "\n",
    "def compute_mean_position(a, f): \n",
    "    y_positions = [i for i in range(a.shape[0]) for j in range(a.shape[1]) if f(a[i, j])]\n",
    "    return np.mean(y_positions) if y_positions else None\n",
    "\n",
    "def determine_flag(p):\n",
    "    a = np.array(Image.open(p).convert(\"RGB\"))\n",
    "    r, w = compute_mean_position(a, is_red), compute_mean_position(a, is_white)\n",
    "    if r is None or w is None:\n",
    "        return \"No clear flag detected in the image.\"\n",
    "    return \"The flag is Indonesia.\" if r < w else \"The flag is Poland.\" if w < r else \"The image does not match the Indonesia or Poland flag pattern.\"\n",
    "\n",
    "def main():\n",
    "    image_path = 'img.png'\n",
    "    print(determine_flag(image_path))\n",
    "\n",
    "if __name__ == \"__main__\":\n",
    "    main()\n"
   ]
  }
 ],
 "metadata": {
  "kernelspec": {
   "display_name": ".venv",
   "language": "python",
   "name": "python3"
  },
  "language_info": {
   "codemirror_mode": {
    "name": "ipython",
    "version": 3
   },
   "file_extension": ".py",
   "mimetype": "text/x-python",
   "name": "python",
   "nbconvert_exporter": "python",
   "pygments_lexer": "ipython3",
   "version": "3.12.7"
  }
 },
 "nbformat": 5,
 "nbformat_minor": 9
}
