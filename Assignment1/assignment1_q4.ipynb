{
 "cells": [
  {
   "metadata": {
    "ExecuteTime": {
     "end_time": "2024-12-17T16:30:35.678151Z",
     "start_time": "2024-12-17T16:30:26.681566Z"
    }
   },
   "cell_type": "code",
   "source": [
    "from PIL import Image\n",
    "import numpy as np\n",
    "\n",
    "def is_red(pixel):\n",
    "    r, g, b = pixel\n",
    "    return r > 100 and g < 100 and b < 100\n",
    "\n",
    "def is_white(pixel):\n",
    "    r, g, b = pixel\n",
    "    return r > 200 and g > 200 and b > 200\n",
    "def compute_mean_position(image_array, condition_function):\n",
    "    y_positions = [\n",
    "        i for i in range(image_array.shape[0])\n",
    "        for j in range(image_array.shape[1])\n",
    "        if condition_function(image_array[i, j])\n",
    "    ]\n",
    "    if y_positions:\n",
    "        return np.mean(y_positions)\n",
    "    return None\n",
    "\n",
    "def determine_flag(image_path):\n",
    "    img = Image.open(image_path).convert(\"RGB\")\n",
    "    image_array = np.array(img)\n",
    "\n",
    "    mean_red = compute_mean_position(image_array, is_red)\n",
    "    mean_white = compute_mean_position(image_array, is_white)\n",
    "\n",
    "    if mean_red is None or mean_white is None:\n",
    "        return \"No clear flag detected in the image.\"\n",
    "    if mean_red < mean_white:\n",
    "        return \"The flag is Indonesia.\"\n",
    "    elif mean_white < mean_red:\n",
    "        return \"The flag is Poland.\"\n",
    "    else:\n",
    "        return \"The image does not match the Indonesia or Poland flag pattern.\"\n",
    "\n",
    "def main():\n",
    "    image_path = 'img.png'\n",
    "    result = determine_flag(image_path)\n",
    "    print(result)\n",
    "\n",
    "if __name__ == \"__main__\":\n",
    "    main()\n"
   ],
   "id": "3426683aa724d3e4",
   "outputs": [
    {
     "name": "stdout",
     "output_type": "stream",
     "text": [
      "The flag is Indonesia.\n"
     ]
    }
   ],
   "execution_count": 1
  }
 ],
 "metadata": {
  "kernelspec": {
   "name": "python3",
   "language": "python",
   "display_name": "Python 3 (ipykernel)"
  }
 },
 "nbformat": 5,
 "nbformat_minor": 9
}
