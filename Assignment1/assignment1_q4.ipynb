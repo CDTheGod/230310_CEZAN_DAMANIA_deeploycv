{
 "cells": [
  {
   "metadata": {
    "ExecuteTime": {
     "end_time": "2024-12-17T18:36:02.073380Z",
     "start_time": "2024-12-17T18:36:01.763759Z"
    }
   },
   "cell_type": "code",
   "source": [
    "from PIL import Image\n",
    "import numpy as np\n",
    "\n",
    "def is_red(p): return p[0] > 100 and p[1] < 100 and p[2] < 100\n",
    "def is_white(p): return p[0] > 200 and p[1] > 200 and p[2] > 200\n",
    "\n",
    "def compute_mean_position(a, f):\n",
    "    return np.mean([i for i in range(a.shape[0]) for j in range(a.shape[1]) if f(a[i, j])]) if any(f(a[i, j]) for i in range(a.shape[0]) for j in range(a.shape[1])) else None\n",
    "\n",
    "def determine_flag(p):\n",
    "    a = np.array(Image.open(p).convert(\"RGB\"))\n",
    "    r, w = compute_mean_position(a, is_red), compute_mean_position(a, is_white)\n",
    "    return \"No clear flag detected in the image.\" if r is None or w is None else \"The flag is Indonesia.\" if r < w else \"The flag is Poland.\" if w < r else \"The image does not match the Indonesia or Poland flag pattern.\"\n",
    "\n",
    "def main():\n",
    "    print(determine_flag('img.png'))\n",
    "if __name__ == \"__main__\":\n",
    "    main()"
   ],
   "id": "3426683aa724d3e4",
   "outputs": [
    {
     "name": "stdout",
     "output_type": "stream",
     "text": [
      "The flag is Indonesia.\n"
     ]
    }
   ],
   "execution_count": 1
  }
 ],
 "metadata": {
  "kernelspec": {
   "name": "python3",
   "language": "python",
   "display_name": "Python 3 (ipykernel)"
  }
 },
 "nbformat": 5,
 "nbformat_minor": 9
}
