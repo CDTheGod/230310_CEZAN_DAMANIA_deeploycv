{
 "cells": [
  {
   "metadata": {
    "ExecuteTime": {
     "end_time": "2024-12-17T16:30:35.678151Z",
     "start_time": "2024-12-17T16:30:26.681566Z"
    }
   },
   "cell_type": "code",
   "source": [
    "from PIL import Image\n",
    "import numpy as np\n",
    "\n",
    "def is_red(pixel):\n",
    "    \"\"\"Check if a pixel is red based on RGB values.\"\"\"\n",
    "    r, g, b = pixel\n",
    "    return r > 100 and g < 100 and b < 100  # High R, low G and B\n",
    "\n",
    "def is_white(pixel):\n",
    "    \"\"\"Check if a pixel is white based on RGB values.\"\"\"\n",
    "    r, g, b = pixel\n",
    "    return r > 200 and g > 200 and b > 200  # High R, G, and B\n",
    "\n",
    "def compute_mean_position(image_array, condition_function):\n",
    "    \"\"\"\n",
    "    Compute the mean vertical position (y-coordinate) of pixels\n",
    "    that satisfy a given condition.\n",
    "    \"\"\"\n",
    "    y_positions = [\n",
    "        i for i in range(image_array.shape[0])\n",
    "        for j in range(image_array.shape[1])\n",
    "        if condition_function(image_array[i, j])\n",
    "    ]\n",
    "    if y_positions:\n",
    "        return np.mean(y_positions)\n",
    "    return None\n",
    "\n",
    "def determine_flag(image_path):\n",
    "    \"\"\"\n",
    "    Determine if the given image contains the flag of Indonesia or Poland.\n",
    "    \"\"\"\n",
    "    img = Image.open(image_path).convert(\"RGB\")\n",
    "    image_array = np.array(img)\n",
    "\n",
    "    # Compute mean vertical positions of red and white pixels\n",
    "    mean_red = compute_mean_position(image_array, is_red)\n",
    "    mean_white = compute_mean_position(image_array, is_white)\n",
    "\n",
    "    if mean_red is None or mean_white is None:\n",
    "        return \"No clear flag detected in the image.\"\n",
    "\n",
    "    # Compare positions\n",
    "    if mean_red < mean_white:  # Red is higher\n",
    "        return \"The flag is Indonesia.\"\n",
    "    elif mean_white < mean_red:  # White is higher\n",
    "        return \"The flag is Poland.\"\n",
    "    else:\n",
    "        return \"The image does not match the Indonesia or Poland flag pattern.\"\n",
    "\n",
    "def main():\n",
    "    image_path = 'img.png'\n",
    "    result = determine_flag(image_path)\n",
    "    print(result)\n",
    "\n",
    "if __name__ == \"__main__\":\n",
    "    main()\n"
   ],
   "id": "3426683aa724d3e4",
   "outputs": [
    {
     "name": "stdout",
     "output_type": "stream",
     "text": [
      "The flag is Indonesia.\n"
     ]
    }
   ],
   "execution_count": 1
  }
 ],
 "metadata": {
  "kernelspec": {
   "name": "python3",
   "language": "python",
   "display_name": "Python 3 (ipykernel)"
  }
 },
 "nbformat": 5,
 "nbformat_minor": 9
}
