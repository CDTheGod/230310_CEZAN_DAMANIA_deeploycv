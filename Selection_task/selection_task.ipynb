{
 "cells": [
  {
   "cell_type": "code",
   "id": "initial_id",
   "metadata": {
    "collapsed": true,
    "ExecuteTime": {
     "end_time": "2024-12-13T18:18:07.605086Z",
     "start_time": "2024-12-13T18:18:00.067897Z"
    }
   },
   "source": [
    "import numpy as np\n",
    "from PIL import Image\n",
    "from tensorflow.keras.applications.resnet50 import ResNet50, preprocess_input, decode_predictions\n",
    "from tensorflow.keras.preprocessing import image\n",
    "\n",
    "img = Image.open('img.png')\n",
    "\n",
    "img = img.resize((224, 224))\n",
    "img = image.img_to_array(img)\n",
    "\n",
    "img = np.expand_dims(img, axis=0)\n",
    "\n",
    "img = preprocess_input(img)\n",
    "\n",
    "model = ResNet50(weights='imagenet')\n",
    "pred = model.predict(img)\n",
    "print('Predicted class:', decode_predictions(pred, top=3)[0])\n",
    "# prediction was decent enough, but not sufficient, maybe more labels needed, and more able to identify a whole image instead of just a part, for example it identified the racer but not the car he is in , which i feel should be a different label altogether\n"
   ],
   "outputs": [
    {
     "name": "stdout",
     "output_type": "stream",
     "text": [
      "\u001B[1m1/1\u001B[0m \u001B[32m━━━━━━━━━━━━━━━━━━━━\u001B[0m\u001B[37m\u001B[0m \u001B[1m3s\u001B[0m 3s/step\n",
      "Predicted class: [('n04037443', 'racer', np.float32(0.7236178)), ('n04285008', 'sports_car', np.float32(0.23630443)), ('n03444034', 'go-kart', np.float32(0.036641605))]\n"
     ]
    }
   ],
   "execution_count": 2
  }
 ],
 "metadata": {
  "kernelspec": {
   "display_name": "Python 3",
   "language": "python",
   "name": "python3"
  },
  "language_info": {
   "codemirror_mode": {
    "name": "ipython",
    "version": 2
   },
   "file_extension": ".py",
   "mimetype": "text/x-python",
   "name": "python",
   "nbconvert_exporter": "python",
   "pygments_lexer": "ipython2",
   "version": "2.7.6"
  }
 },
 "nbformat": 4,
 "nbformat_minor": 5
}
